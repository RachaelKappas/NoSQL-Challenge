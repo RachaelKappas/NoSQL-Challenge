{
 "cells": [
  {
   "cell_type": "markdown",
   "id": "9a57c4c6",
   "metadata": {},
   "source": [
    "# Eat Safe, Love"
   ]
  },
  {
   "cell_type": "markdown",
   "id": "064ef857",
   "metadata": {},
   "source": [
    "## Part 1: Database and Jupyter Notebook Set Up"
   ]
  },
  {
   "cell_type": "markdown",
   "id": "664e3c1f",
   "metadata": {},
   "source": [
    "Import the data provided in the `establishments.json` file from your Terminal. Name the database `uk_food` and the collection `establishments`.\n",
    "\n",
    "Within this markdown cell, copy the line of text you used to import the data from your Terminal. This way, future analysts will be able to repeat your process.\n",
    "\n",
    "e.g.: Import the dataset with `mongoimport --db uk_food --collection establishments --file \"C:\\Users\\kappa\\Documents\\Bootcamp\\UofU-VIRT-DATA-PT-02-2024-U-LOLC\\02-Homework\\12-NoSQL-Databases\\Starter_Code\\Resources\\establishments.json\" --jsonArray`"
   ]
  },
  {
   "cell_type": "code",
   "execution_count": 7,
   "id": "3ecdd008",
   "metadata": {},
   "outputs": [],
   "source": [
    "# Import dependencies\n",
    "from pymongo import MongoClient\n",
    "from pprint import pprint"
   ]
  },
  {
   "cell_type": "code",
   "execution_count": 8,
   "id": "59390c4a",
   "metadata": {},
   "outputs": [],
   "source": [
    "# Create an instance of MongoClient\n",
    "mongo = MongoClient(port=27017)"
   ]
  },
  {
   "cell_type": "code",
   "execution_count": 9,
   "id": "7f9ececa",
   "metadata": {},
   "outputs": [
    {
     "name": "stdout",
     "output_type": "stream",
     "text": [
      "['admin', 'classDB', 'config', 'local', 'met', 'my_database', 'uk_food']\n"
     ]
    }
   ],
   "source": [
    "# confirm that our new database was created\n",
    "databases = mongo.list_database_names()\n",
    "pprint(databases)"
   ]
  },
  {
   "cell_type": "code",
   "execution_count": 10,
   "id": "71e373c1",
   "metadata": {},
   "outputs": [],
   "source": [
    "# assign the uk_food database to a variable name\n",
    "db = mongo['uk_food']"
   ]
  },
  {
   "cell_type": "code",
   "execution_count": 11,
   "id": "ef1b89ed",
   "metadata": {},
   "outputs": [
    {
     "name": "stdout",
     "output_type": "stream",
     "text": [
      "Collections in the 'uk_food' database:\n",
      "establishments\n"
     ]
    }
   ],
   "source": [
    "# review the collections in our new database\n",
    "collections = db.list_collection_names()\n",
    "\n",
    "# Print the list of collections\n",
    "print(\"Collections in the 'uk_food' database:\")\n",
    "for collection in collections:\n",
    "    print(collection)"
   ]
  },
  {
   "cell_type": "code",
   "execution_count": 12,
   "id": "6a0d92df",
   "metadata": {},
   "outputs": [
    {
     "name": "stdout",
     "output_type": "stream",
     "text": [
      "Document in the 'establishments' collection:\n",
      "{'AddressLine1': 'The Bay',\n",
      " 'AddressLine2': 'St Margarets Bay',\n",
      " 'AddressLine3': 'Kent',\n",
      " 'AddressLine4': '',\n",
      " 'BusinessName': 'Refreshment Kiosk',\n",
      " 'BusinessType': 'Restaurant/Cafe/Canteen',\n",
      " 'BusinessTypeID': 1,\n",
      " 'ChangesByServerID': 0,\n",
      " 'Distance': 4587.347174863443,\n",
      " 'FHRSID': 254719,\n",
      " 'LocalAuthorityBusinessID': 'PI/000069980',\n",
      " 'LocalAuthorityCode': '182',\n",
      " 'LocalAuthorityEmailAddress': 'publicprotection@dover.gov.uk',\n",
      " 'LocalAuthorityName': 'Dover',\n",
      " 'LocalAuthorityWebSite': 'http://www.dover.gov.uk/',\n",
      " 'NewRatingPending': False,\n",
      " 'Phone': '',\n",
      " 'PostCode': 'CT15 6DY',\n",
      " 'RatingDate': '2022-03-24T00:00:00',\n",
      " 'RatingKey': 'fhrs_5_en-gb',\n",
      " 'RatingValue': '5',\n",
      " 'RightToReply': '',\n",
      " 'SchemeType': 'FHRS',\n",
      " '_id': ObjectId('66a034e807cca6d6d90c6149'),\n",
      " 'geocode': {'latitude': '51.152225', 'longitude': '1.387974'},\n",
      " 'links': [{'href': 'https://api.ratings.food.gov.uk/establishments/254719',\n",
      "            'rel': 'self'}],\n",
      " 'meta': {'dataSource': None,\n",
      "          'extractDate': '0001-01-01T00:00:00',\n",
      "          'itemCount': 0,\n",
      "          'pageNumber': 0,\n",
      "          'pageSize': 0,\n",
      "          'returncode': None,\n",
      "          'totalCount': 0,\n",
      "          'totalPages': 0},\n",
      " 'scores': {'ConfidenceInManagement': 5, 'Hygiene': 0, 'Structural': 5}}\n"
     ]
    }
   ],
   "source": [
    "# review a document in the establishments collection\n",
    "collection = db['establishments']\n",
    "\n",
    "document = collection.find_one()\n",
    "\n",
    "# Print the document using pretty-printing\n",
    "print(\"Document in the 'establishments' collection:\")\n",
    "pprint(document)\n"
   ]
  },
  {
   "cell_type": "code",
   "execution_count": 13,
   "id": "11c9f11b",
   "metadata": {},
   "outputs": [],
   "source": [
    "# assign the collection to a variable\n",
    "establishments = db['establishments']"
   ]
  },
  {
   "cell_type": "markdown",
   "id": "d5671434",
   "metadata": {},
   "source": [
    "## Part 2: Update the Database"
   ]
  },
  {
   "cell_type": "markdown",
   "id": "314bd884",
   "metadata": {},
   "source": [
    "1. An exciting new halal restaurant just opened in Greenwich, but hasn't been rated yet. The magazine has asked you to include it in your analysis. Add the following restaurant \"Penang Flavours\" to the database."
   ]
  },
  {
   "cell_type": "code",
   "execution_count": 21,
   "id": "c2da7648",
   "metadata": {},
   "outputs": [
    {
     "name": "stdout",
     "output_type": "stream",
     "text": [
      "Inserted document name: Penang Flavours\n"
     ]
    }
   ],
   "source": [
    "# Create a dictionary for the new restaurant data\n",
    "new_restaurant = {\n",
    "    \"name\": \"Penang Flavours\",\n",
    "    \"location\": \"Greenwich\",\n",
    "    \"cuisine\": \"Halal\",\n",
    "    \"rating\": None \n",
    "}\n",
    "\n",
    "# Insert the new restaurant into the collection\n",
    "result = establishments.insert_one(new_restaurant)\n",
    "\n",
    "# Retrieve the newly inserted document using its unique properties\n",
    "inserted_document = establishments.find_one({\"_id\": result.inserted_id})\n",
    "\n",
    "# Print the name of the newly inserted document\n",
    "print(\"Inserted document name:\", inserted_document[\"name\"])\n"
   ]
  },
  {
   "cell_type": "markdown",
   "id": "0ef4395a",
   "metadata": {},
   "source": [
    "2. Find the BusinessTypeID for \"Restaurant/Cafe/Canteen\" and return only the `BusinessTypeID` and `BusinessType` fields."
   ]
  },
  {
   "cell_type": "code",
   "execution_count": 24,
   "id": "93c63829",
   "metadata": {},
   "outputs": [
    {
     "name": "stdout",
     "output_type": "stream",
     "text": [
      "BusinessTypeID and BusinessType: {'BusinessType': 'Restaurant/Cafe/Canteen', 'BusinessTypeID': 1}\n"
     ]
    }
   ],
   "source": [
    "# Find the BusinessTypeID for \"Restaurant/Cafe/Canteen\" and return only the BusinessTypeID and BusinessType fields\n",
    "\n",
    "result = collection.find_one(\n",
    "    {\"BusinessType\": \"Restaurant/Cafe/Canteen\"},  # Query to match BusinessType\n",
    "    {\"_id\": 0, \"BusinessTypeID\": 1, \"BusinessType\": 1}  # Projection to return only BusinessTypeID and BusinessType\n",
    ")\n",
    "\n",
    "print(\"BusinessTypeID and BusinessType:\", result)\n"
   ]
  },
  {
   "cell_type": "markdown",
   "id": "4e570caf",
   "metadata": {},
   "source": [
    "3. Update the new restaurant with the `BusinessTypeID` you found."
   ]
  },
  {
   "cell_type": "code",
   "execution_count": 26,
   "id": "7f599f3d",
   "metadata": {},
   "outputs": [
    {
     "name": "stdout",
     "output_type": "stream",
     "text": [
      "Updated document: 1 document(s) updated.\n"
     ]
    }
   ],
   "source": [
    "# Update the new restaurant with the correct BusinessTypeID\n",
    "\n",
    "business_type_id = \"your_business_type_id_here\"\n",
    "result = establishments.update_one(\n",
    "    {\"name\": \"Penang Flavours\"},  # Query to find the specific restaurant\n",
    "    {\"$set\": {\"BusinessTypeID\": business_type_id}}  # Update operation\n",
    ")\n",
    "\n",
    "# Print the result of the update operation\n",
    "if result.matched_count > 0:\n",
    "    print(\"Updated document:\", result.modified_count, \"document(s) updated.\")\n",
    "else:\n",
    "    print(\"No document found with the name 'Penang Flavours'.\")\n"
   ]
  },
  {
   "cell_type": "markdown",
   "id": "67281254",
   "metadata": {},
   "source": [
    "4. The magazine is not interested in any establishments in Dover, so check how many documents contain the Dover Local Authority. Then, remove any establishments within the Dover Local Authority from the database, and check the number of documents to ensure they were deleted."
   ]
  },
  {
   "cell_type": "code",
   "execution_count": 27,
   "id": "768474a6",
   "metadata": {},
   "outputs": [
    {
     "name": "stdout",
     "output_type": "stream",
     "text": [
      "Number of documents with LocalAuthorityName 'Dover': 994\n"
     ]
    }
   ],
   "source": [
    "# Find how many documents have LocalAuthorityName as \"Dover\"\n",
    "count = establishments.count_documents({\"LocalAuthorityName\": \"Dover\"})\n",
    "\n",
    "# Print the count\n",
    "print(\"Number of documents with LocalAuthorityName 'Dover':\", count)"
   ]
  },
  {
   "cell_type": "code",
   "execution_count": 28,
   "id": "a11d5f1b",
   "metadata": {},
   "outputs": [
    {
     "name": "stdout",
     "output_type": "stream",
     "text": [
      "Number of documents deleted: 994\n"
     ]
    }
   ],
   "source": [
    "# Delete all documents where LocalAuthorityName is \"Dover\"\n",
    "result = establishments.delete_many({\"LocalAuthorityName\": \"Dover\"})\n",
    "\n",
    "# Print the result\n",
    "print(\"Number of documents deleted:\", result.deleted_count)"
   ]
  },
  {
   "cell_type": "code",
   "execution_count": 29,
   "id": "2a51aba0",
   "metadata": {},
   "outputs": [
    {
     "name": "stdout",
     "output_type": "stream",
     "text": [
      "No remaining documents with LocalAuthorityName 'Dover'.\n"
     ]
    }
   ],
   "source": [
    "# Check if any remaining documents include Dover\n",
    "remaining_document = establishments.find_one({\"LocalAuthorityName\": \"Dover\"})\n",
    "\n",
    "# Print the result\n",
    "if remaining_document:\n",
    "    print(\"There are remaining documents with LocalAuthorityName 'Dover'.\")\n",
    "else:\n",
    "    print(\"No remaining documents with LocalAuthorityName 'Dover'.\")"
   ]
  },
  {
   "cell_type": "code",
   "execution_count": 30,
   "id": "8c356f7b",
   "metadata": {},
   "outputs": [
    {
     "name": "stdout",
     "output_type": "stream",
     "text": [
      "There are remaining documents in the collection.\n"
     ]
    }
   ],
   "source": [
    "# Check that other documents remain with 'find_one'\n",
    "remaining_document = establishments.find_one()\n",
    "\n",
    "# Print the result\n",
    "if remaining_document:\n",
    "    print(\"There are remaining documents in the collection.\")\n",
    "else:\n",
    "    print(\"No remaining documents in the collection.\")"
   ]
  },
  {
   "attachments": {},
   "cell_type": "markdown",
   "id": "e9f1662d",
   "metadata": {},
   "source": [
    "5. Some of the number values are stored as strings, when they should be stored as numbers."
   ]
  },
  {
   "attachments": {},
   "cell_type": "markdown",
   "id": "c46df2df",
   "metadata": {},
   "source": [
    "Use `update_many` to convert `latitude` and `longitude` to decimal numbers."
   ]
  },
  {
   "cell_type": "code",
   "execution_count": 31,
   "id": "fd4112ce",
   "metadata": {},
   "outputs": [
    {
     "name": "stdout",
     "output_type": "stream",
     "text": [
      "Matched 38789 documents.\n",
      "Modified 38789 documents.\n"
     ]
    }
   ],
   "source": [
    "# Change the data type from String to Decimal for longitude and latitude\n",
    "result = establishments.update_many(\n",
    "    {},\n",
    "    [{\n",
    "        \"$set\": {\n",
    "            \"latitude\": {\"$toDouble\": \"$latitude\"},\n",
    "            \"longitude\": {\"$toDouble\": \"$longitude\"}\n",
    "        }\n",
    "    }]\n",
    ")\n",
    "\n",
    "# Print the result\n",
    "print(f\"Matched {result.matched_count} documents.\")\n",
    "print(f\"Modified {result.modified_count} documents.\")"
   ]
  },
  {
   "attachments": {},
   "cell_type": "markdown",
   "id": "142e319c",
   "metadata": {},
   "source": [
    "Use `update_many` to convert `RatingValue` to integer numbers."
   ]
  },
  {
   "cell_type": "code",
   "execution_count": 32,
   "id": "04430a5b",
   "metadata": {},
   "outputs": [
    {
     "data": {
      "text/plain": [
       "UpdateResult({'n': 4091, 'nModified': 4091, 'ok': 1.0, 'updatedExisting': True}, acknowledged=True)"
      ]
     },
     "execution_count": 32,
     "metadata": {},
     "output_type": "execute_result"
    }
   ],
   "source": [
    "# Set non 1-5 Rating Values to Null\n",
    "non_ratings = [\"AwaitingInspection\", \"Awaiting Inspection\", \"AwaitingPublication\", \"Pass\", \"Exempt\"]\n",
    "establishments.update_many({\"RatingValue\": {\"$in\": non_ratings}}, [ {'$set':{ \"RatingValue\" : None}} ])"
   ]
  },
  {
   "cell_type": "code",
   "execution_count": 33,
   "id": "92524ccc",
   "metadata": {},
   "outputs": [
    {
     "name": "stdout",
     "output_type": "stream",
     "text": [
      "Matched 34694 documents.\n",
      "Modified 34694 documents.\n"
     ]
    }
   ],
   "source": [
    "# Change the data type from String to Integer for RatingValue\n",
    "non_ratings = [\"AwaitingInspection\", \"Awaiting Inspection\", \"AwaitingPublication\", \"Pass\", \"Exempt\"]\n",
    "establishments.update_many(\n",
    "    {\"RatingValue\": {\"$in\": non_ratings}},\n",
    "    {\"$set\": {\"RatingValue\": None}}\n",
    ")\n",
    "\n",
    "result = establishments.update_many(\n",
    "    {\"RatingValue\": {\"$type\": \"string\"}},\n",
    "    [{\"$set\": {\"RatingValue\": {\"$toInt\": \"$RatingValue\"}}}]  \n",
    ")\n",
    "\n",
    "print(f\"Matched {result.matched_count} documents.\")\n",
    "print(f\"Modified {result.modified_count} documents.\")"
   ]
  },
  {
   "cell_type": "code",
   "execution_count": 34,
   "id": "0deacaf9",
   "metadata": {},
   "outputs": [
    {
     "name": "stdout",
     "output_type": "stream",
     "text": [
      "No documents with latitude as a double.\n",
      "No documents with longitude as a double.\n",
      "There are documents with RatingValue as an integer.\n"
     ]
    }
   ],
   "source": [
    "# Check that the coordinates and rating value are now numbers\n",
    "latitude_check = establishments.find_one({\"latitude\": {\"$type\": \"double\"}})\n",
    "longitude_check = establishments.find_one({\"longitude\": {\"$type\": \"double\"}})\n",
    "rating_value_check = establishments.find_one({\"RatingValue\": {\"$type\": \"int\"}})\n",
    "\n",
    "# Print results\n",
    "if latitude_check:\n",
    "    print(\"There are documents with latitude as a double.\")\n",
    "else:\n",
    "    print(\"No documents with latitude as a double.\")\n",
    "\n",
    "if longitude_check:\n",
    "    print(\"There are documents with longitude as a double.\")\n",
    "else:\n",
    "    print(\"No documents with longitude as a double.\")\n",
    "\n",
    "if rating_value_check:\n",
    "    print(\"There are documents with RatingValue as an integer.\")\n",
    "else:\n",
    "    print(\"No documents with RatingValue as an integer.\")"
   ]
  }
 ],
 "metadata": {
  "kernelspec": {
   "display_name": "Python 3 (ipykernel)",
   "language": "python",
   "name": "python3"
  },
  "language_info": {
   "codemirror_mode": {
    "name": "ipython",
    "version": 3
   },
   "file_extension": ".py",
   "mimetype": "text/x-python",
   "name": "python",
   "nbconvert_exporter": "python",
   "pygments_lexer": "ipython3",
   "version": "3.10.13"
  }
 },
 "nbformat": 4,
 "nbformat_minor": 5
}
